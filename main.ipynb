{
 "cells": [
  {
   "cell_type": "code",
   "execution_count": 1,
   "metadata": {},
   "outputs": [
    {
     "name": "stderr",
     "output_type": "stream",
     "text": [
      "OLX: 100%|██████████| 100/100 [04:22<00:00,  2.62s/it]\n",
      "Loft: 100%|██████████| 132/132 [00:27<00:00,  4.78it/s]\n"
     ]
    }
   ],
   "source": [
    "from bs4 import BeautifulSoup\n",
    "import requests\n",
    "from tqdm import tqdm\n",
    "\n",
    "headers = {'User-Agent': 'Mozilla/5.0 (Macintosh; Intel Mac OS X 10_11_5) AppleWebKit/537.36 (KHTML, like Gecko) Chrome/50.0.2661.102 Safari/537.36'}\n",
    "\n",
    "def getOlx():\n",
    "    olx_list = []\n",
    "    for i in tqdm(range(1,101), desc='OLX'):\n",
    "        r = requests.get(f'https://www.olx.com.br/imoveis/estado-sp?o={i}', headers=headers)\n",
    "        content = r.content\n",
    "        soup = BeautifulSoup(r.content, 'html.parser') \n",
    "        li_tags = soup.find_all('li')\n",
    "        # Iterando sobre as tags <li> encontradas\n",
    "        for li_tag in li_tags:\n",
    "            # Verificando se a tag <li> contém um link\n",
    "            if li_tag.find('a'):\n",
    "                # Obtendo o valor do atributo \"href\" do link\n",
    "                link = li_tag.find('a')['href']        \n",
    "                if link.startswith('https://sp.olx.com.br'):\n",
    "                    olx_list.append(link)\n",
    "    return olx_list\n",
    "\n",
    "def getLoft():\n",
    "    temp = []\n",
    "    loft_list = []\n",
    "    for i in tqdm(range(1, 133),desc='Loft'):\n",
    "            response = requests.get(f'https://loft.com.br/venda/imoveis/sp/sao-paulo?utm_source=google&utm_medium=cpc&utm_campaign=ins_01_br_001_sp_0001_sao-paulo_all_aw_search_conversion_broad_&utm_content=all_loft-pura&utm_id=1756086660&utm_placement=&utm_ad_id=576438774862&gclid=Cj0KCQjwjryjBhD0ARIsAMLvnF9KvelK1iKF7xoTJ3HS0KSWMhoDO0UlANc1gTfQEMGg5Bud0HiPZg4aAscOEALw_wcB&pagina={i}')\n",
    "            html_content = response.text\n",
    "\n",
    "            soup = BeautifulSoup(html_content, 'html.parser')\n",
    "\n",
    "            divs = soup.find_all('div', class_='MuiGrid-root')\n",
    "\n",
    "            for div in divs:\n",
    "                tag_a = div.find('a')\n",
    "                if tag_a is not None:\n",
    "                    link = tag_a['href']\n",
    "                    if link.startswith('/imovel/'):\n",
    "                        temp.append(link)\n",
    "    loft_list = ['http://loft.com.br' + valor for valor in temp]\n",
    "    return loft_list\n",
    "\n",
    "## MAIN CODE\n",
    "olx_list = getOlx()\n",
    "loft_list = getLoft()\n",
    "\n",
    "## get olx data\n",
    "\n",
    "\n",
    "dados_gerais = []  # Lista para armazenar os dados de todas as URLs\n",
    "\n",
    "for url in tqdm(olx_list):\n",
    "    r = requests.get(url, headers=headers)\n",
    "    content = r.content\n",
    "    soup = BeautifulSoup(r.content, 'lxml') \n",
    "\n",
    "    h2 = soup.find('h2', class_='ad__sc-1wimjbb-1 hoHpcC sc-cooIXK cXlgiS')\n",
    "    if h2:\n",
    "        h2_value = h2.text.strip()\n",
    "    else:\n",
    "        h2_value = ''\n",
    "\n",
    "    divs = soup.find_all('div', class_='sc-hmzhuo ad__sc-1f2ug0x-3 sSzeX sc-jTzLTM iwtnNi')  # Substitua 'nome_da_classe' pela classe real das divs\n",
    "\n",
    "    dados_url = {}  # Dicionário para armazenar os dados de uma URL específica\n",
    "\n",
    "    # Adicione a URL ao dicionário da URL específica com a chave 'URL'\n",
    "    dados_url['URL'] = url\n",
    "\n",
    "    # Adicione o valor da tag h2 ao dicionário da URL específica com a chave 'Valor'\n",
    "    dados_url['Valor'] = h2_value\n",
    "\n",
    "    # Itere sobre as divs encontradas\n",
    "    for div in divs:\n",
    "        # Inicialize um dicionário vazio para armazenar os valores da div atual\n",
    "        dados = {}\n",
    "\n",
    "        # Encontre todas as tags dt dentro da div atual\n",
    "        tags_dt = div.find_all('dt')\n",
    "\n",
    "        # Itere sobre as tags dt e obtenha os valores\n",
    "        for dt in tags_dt:\n",
    "            key = dt.text.strip()  # Use strip() para remover espaços em branco extras\n",
    "\n",
    "            # Encontre a próxima tag dd\n",
    "            dd = dt.find_next_sibling('dd')\n",
    "\n",
    "            # Se a tag dd existir, obtenha o valor\n",
    "            if dd:\n",
    "                value = dd.text.strip()\n",
    "            else:\n",
    "                # Se não houver uma tag dd, encontre a próxima div com a classe específica\n",
    "                proxima_div = div.find_next('div', class_='ad__sc-1f2ug0x-2 eSYIff')\n",
    "\n",
    "                # Encontre a tag a dentro da próxima div\n",
    "                a = proxima_div.find('a') if proxima_div else None\n",
    "\n",
    "                # Obtenha o valor da tag a, se existir\n",
    "                value = a.text.strip() if a else ''\n",
    "\n",
    "            dados[key] = value\n",
    "\n",
    "        # Adicione o dicionário da div atual ao dicionário da URL específica\n",
    "        dados_url.update(dados)\n",
    "\n",
    "    # Adicione o dicionário da URL específica à lista geral\n",
    "    dados_gerais.append(dados_url)\n",
    "\n",
    "# Converter a lista de dicionários em um DataFrame do pandas\n",
    "df = pd.DataFrame(dados_gerais)\n",
    "\n",
    "# Salvar o DataFrame em um arquivo Excel\n",
    "df.to_excel('dados.xlsx', index=False)\n",
    "\n"
   ]
  },
  {
   "cell_type": "code",
   "execution_count": 2,
   "metadata": {},
   "outputs": [
    {
     "name": "stderr",
     "output_type": "stream",
     "text": [
      "Loft: 100%|██████████| 132/132 [00:29<00:00,  4.47it/s]\n"
     ]
    }
   ],
   "source": [
    "from bs4 import BeautifulSoup\n",
    "import requests\n",
    "from tqdm import tqdm\n",
    "\n",
    "headers = {'User-Agent': 'Mozilla/5.0 (Macintosh; Intel Mac OS X 10_11_5) AppleWebKit/537.36 (KHTML, like Gecko) Chrome/50.0.2661.102 Safari/537.36'}\n",
    "\n",
    "\n",
    "def getLoft():\n",
    "    temp = []\n",
    "    loft_list = []\n",
    "    for i in tqdm(range(1, 133),desc='Loft'):\n",
    "            response = requests.get(f'https://loft.com.br/venda/imoveis/sp/sao-paulo?utm_source=google&utm_medium=cpc&utm_campaign=ins_01_br_001_sp_0001_sao-paulo_all_aw_search_conversion_broad_&utm_content=all_loft-pura&utm_id=1756086660&utm_placement=&utm_ad_id=576438774862&gclid=Cj0KCQjwjryjBhD0ARIsAMLvnF9KvelK1iKF7xoTJ3HS0KSWMhoDO0UlANc1gTfQEMGg5Bud0HiPZg4aAscOEALw_wcB&pagina={i}')\n",
    "            html_content = response.text\n",
    "\n",
    "            soup = BeautifulSoup(html_content, 'html.parser')\n",
    "\n",
    "            divs = soup.find_all('div', class_='MuiGrid-root')\n",
    "\n",
    "            for div in divs:\n",
    "                tag_a = div.find('a')\n",
    "                if tag_a is not None:\n",
    "                    link = tag_a['href']\n",
    "                    if link.startswith('/imovel/'):\n",
    "                        temp.append(link)\n",
    "    loft_list = ['http://loft.com.br' + valor for valor in temp]\n",
    "    return loft_list\n",
    "\n",
    "## MAIN CODE\n",
    "\n",
    "loft_list = getLoft()"
   ]
  },
  {
   "cell_type": "code",
   "execution_count": 14,
   "metadata": {},
   "outputs": [
    {
     "name": "stdout",
     "output_type": "stream",
     "text": [
      "{'categoria': 'Casa', 'tipo': 'venda', 'bairro': 'Chácara Klabin', 'tamanho': '295', 'quartos': '4', 'vaga': '3'}\n"
     ]
    }
   ],
   "source": [
    "import re\n",
    "\n",
    "for url in tqdm(loft_list):\n",
    "    r = requests.get(url, headers=headers)\n",
    "    content = r.content\n",
    "    soup = BeautifulSoup(r.content, 'html.parser') \n",
    "    desc = soup.find('h1', class_='MuiTypography-root jss197 jss174 jss183 MuiTypography-body1')\n",
    "\n",
    "    padrao_categoria = r\"^(\\w+)\"\n",
    "    padrao_tipo = r\"à\\s(\\w+)\"\n",
    "    padrao_bairro = r\"em\\s(.+?)\\scom\"\n",
    "    padrao_tamanho = r\"(\\d+)\\s*m²\"\n",
    "    padrao_quartos = r\"(\\d+)\\squartos\"\n",
    "    padrao_vaga = r\"(\\d+)\\svaga\"\n",
    "\n",
    "    dados = {}\n",
    "\n",
    "    dados['categoria'] = re.search(padrao_categoria, desc.text).group(1)\n",
    "    dados['tipo'] = re.search(padrao_tipo, desc.text).group(1)\n",
    "    dados['bairro'] = re.search(padrao_bairro, desc.text).group(1)\n",
    "    dados['tamanho'] = re.search(padrao_tamanho, desc.text).group(1)\n",
    "    try:\n",
    "        dados['quartos'] = re.search(padrao_quartos, desc.text).group(1)\n",
    "    except:\n",
    "        dados['quartos'] = '0'\n",
    "    try:\n",
    "        dados['vaga'] = re.search(padrao_vaga, desc.text).group(1)\n",
    "    except:\n",
    "        dados['vaga'] = '0'\n",
    "\n",
    "print(dados)"
   ]
  },
  {
   "cell_type": "code",
   "execution_count": 51,
   "metadata": {},
   "outputs": [
    {
     "name": "stderr",
     "output_type": "stream",
     "text": [
      "  0%|          | 2/5000 [00:00<09:44,  8.56it/s]"
     ]
    },
    {
     "name": "stdout",
     "output_type": "stream",
     "text": [
      "{'categoria': 'Casa', 'tipo': 'venda', 'bairro': 'Aricanduva', 'tamanho': '382', 'quartos': '3', 'vaga': '8', 'valor': '1.900.000', 'url': 'http://loft.com.br/imovel/casa-rua-sao-felix-de-cantalicio-aricanduva-sao-paulo-3-quartos-382m2/kj3fsq'}\n",
      "{'categoria': 'Casa', 'tipo': 'venda', 'bairro': 'Perdizes', 'tamanho': '90', 'quartos': '3', 'vaga': '2', 'valor': '650.000', 'url': 'http://loft.com.br/imovel/casa-rua-tavares-bastos-perdizes-sao-paulo-3-quartos-90m2/15y1fe8'}\n"
     ]
    },
    {
     "name": "stderr",
     "output_type": "stream",
     "text": [
      "  0%|          | 3/5000 [00:00<09:48,  8.49it/s]"
     ]
    },
    {
     "name": "stdout",
     "output_type": "stream",
     "text": [
      "{'categoria': 'Apartamento', 'tipo': 'venda', 'bairro': 'Pari', 'tamanho': '69', 'quartos': '3', 'vaga': '2', 'valor': '827.999', 'url': 'http://loft.com.br/imovel/apartamento-rua-silva-teles-pari-sao-paulo-3-quartos-69m2/1dasle7'}\n"
     ]
    },
    {
     "name": "stderr",
     "output_type": "stream",
     "text": [
      "  0%|          | 5/5000 [00:00<13:12,  6.30it/s]"
     ]
    },
    {
     "name": "stdout",
     "output_type": "stream",
     "text": [
      "{'categoria': 'Apartamento', 'tipo': 'venda', 'bairro': 'Santo Amaro', 'tamanho': '284', 'quartos': '4', 'vaga': '4', 'valor': '2.200.000', 'url': 'http://loft.com.br/imovel/apartamento-rua-do-estilo-barroco-santo-amaro-sao-paulo-4-quartos-284m2/oofj5l'}\n",
      "{'categoria': 'Apartamento', 'tipo': 'venda', 'bairro': 'Artur Alvim', 'tamanho': '48', 'quartos': '2', 'vaga': '1', 'valor': '243.800', 'url': 'http://loft.com.br/imovel/apartamento-rua-davi-banderali-artur-alvim-sao-paulo-2-quartos-48m2/1hktuao'}\n"
     ]
    },
    {
     "name": "stderr",
     "output_type": "stream",
     "text": [
      "  0%|          | 6/5000 [00:01<24:29,  3.40it/s]"
     ]
    },
    {
     "name": "stdout",
     "output_type": "stream",
     "text": [
      "{'categoria': 'Apartamento', 'tipo': 'venda', 'bairro': 'Campos Elísios', 'tamanho': '86', 'quartos': '2', 'vaga': '0', 'valor': '360.000', 'url': 'http://loft.com.br/imovel/apartamento-praca-julio-prestes-campos-elisios-sao-paulo-2-quartos-86m2/lxlwa'}\n"
     ]
    },
    {
     "name": "stderr",
     "output_type": "stream",
     "text": [
      "  0%|          | 7/5000 [00:01<29:00,  2.87it/s]"
     ]
    },
    {
     "name": "stdout",
     "output_type": "stream",
     "text": [
      "{'categoria': 'Apartamento', 'tipo': 'venda', 'bairro': 'República', 'tamanho': '36', 'quartos': '0', 'vaga': '0', 'valor': '450.000', 'url': 'http://loft.com.br/imovel/apartamento-rua-bento-freitas-republica-sao-paulo-1-quarto-36m2/1wcyj4j'}\n"
     ]
    },
    {
     "name": "stderr",
     "output_type": "stream",
     "text": [
      "  0%|          | 8/5000 [00:02<29:31,  2.82it/s]"
     ]
    },
    {
     "name": "stdout",
     "output_type": "stream",
     "text": [
      "{'categoria': 'Apartamento', 'tipo': 'venda', 'bairro': 'Pinheiros', 'tamanho': '18', 'quartos': '0', 'vaga': '1', 'valor': '530.000', 'url': 'http://loft.com.br/imovel/apartamento-rua-oscar-freire-pinheiros-sao-paulo-1-quarto-18m2/bhazdt'}\n"
     ]
    },
    {
     "name": "stderr",
     "output_type": "stream",
     "text": [
      "  0%|          | 9/5000 [00:02<33:46,  2.46it/s]"
     ]
    },
    {
     "name": "stdout",
     "output_type": "stream",
     "text": [
      "{'categoria': 'Apartamento', 'tipo': 'venda', 'bairro': 'Cursino', 'tamanho': '300', 'quartos': '4', 'vaga': '4', 'valor': '2.300.000', 'url': 'http://loft.com.br/imovel/apartamento-rua-marcos-fernandes-cursino-sao-paulo-4-quartos-300m2/ecl6za'}\n"
     ]
    },
    {
     "name": "stderr",
     "output_type": "stream",
     "text": [
      "  0%|          | 10/5000 [00:03<35:30,  2.34it/s]"
     ]
    },
    {
     "name": "stdout",
     "output_type": "stream",
     "text": [
      "{'categoria': 'Apartamento', 'tipo': 'venda', 'bairro': 'Jaraguá', 'tamanho': '42', 'quartos': '2', 'vaga': '0', 'valor': '230.000', 'url': 'http://loft.com.br/imovel/apartamento-avenida-raimundo-pereira-de-magalhaes-jaragua-sao-paulo-2-quartos-42m2/jvbnls'}\n"
     ]
    },
    {
     "name": "stderr",
     "output_type": "stream",
     "text": [
      "  0%|          | 11/5000 [00:03<32:23,  2.57it/s]"
     ]
    },
    {
     "name": "stdout",
     "output_type": "stream",
     "text": [
      "{'categoria': 'Apartamento', 'tipo': 'venda', 'bairro': 'Perdizes', 'tamanho': '147', 'quartos': '3', 'vaga': '2', 'valor': '1.190.000', 'url': 'http://loft.com.br/imovel/apartamento-rua-tucuna-perdizes-sao-paulo-3-quartos-147m2/ss84g0'}\n"
     ]
    },
    {
     "name": "stderr",
     "output_type": "stream",
     "text": [
      "  0%|          | 12/5000 [00:03<28:50,  2.88it/s]"
     ]
    },
    {
     "name": "stdout",
     "output_type": "stream",
     "text": [
      "{'categoria': 'Apartamento', 'tipo': 'venda', 'bairro': 'Alto da Lapa', 'tamanho': '55', 'quartos': '2', 'vaga': '1', 'valor': '445.000', 'url': 'http://loft.com.br/imovel/apartamento-rua-filipinas-alto-da-lapa-sao-paulo-2-quartos-55m2/1s75v70'}\n"
     ]
    },
    {
     "name": "stderr",
     "output_type": "stream",
     "text": [
      "  0%|          | 13/5000 [00:04<30:53,  2.69it/s]"
     ]
    },
    {
     "name": "stdout",
     "output_type": "stream",
     "text": [
      "{'categoria': 'Apartamento', 'tipo': 'venda', 'bairro': 'Vila Andrade', 'tamanho': '156', 'quartos': '3', 'vaga': '3', 'valor': '680.000', 'url': 'http://loft.com.br/imovel/apartamento-avenida-doutor-guilherme-dumont-vilares-vila-andrade-sao-paulo-3-quartos-156m2/xfhw6v'}\n"
     ]
    },
    {
     "name": "stderr",
     "output_type": "stream",
     "text": [
      "  0%|          | 14/5000 [00:04<34:57,  2.38it/s]"
     ]
    },
    {
     "name": "stdout",
     "output_type": "stream",
     "text": [
      "{'categoria': 'Apartamento', 'tipo': 'venda', 'bairro': 'Vila Andrade', 'tamanho': '108', 'quartos': '3', 'vaga': '2', 'valor': '987.000', 'url': 'http://loft.com.br/imovel/apartamento-rua-itatupa-vila-andrade-sao-paulo-3-quartos-108m2/u6l9oc'}\n"
     ]
    },
    {
     "name": "stderr",
     "output_type": "stream",
     "text": [
      "  0%|          | 15/5000 [00:05<35:36,  2.33it/s]"
     ]
    },
    {
     "name": "stdout",
     "output_type": "stream",
     "text": [
      "{'categoria': 'Apartamento', 'tipo': 'venda', 'bairro': 'Itaquera', 'tamanho': '56', 'quartos': '2', 'vaga': '1', 'valor': '320.000', 'url': 'http://loft.com.br/imovel/apartamento-rua-carolina-fonseca-itaquera-sao-paulo-2-quartos-56m2/128els3'}\n"
     ]
    },
    {
     "name": "stderr",
     "output_type": "stream",
     "text": [
      "  0%|          | 16/5000 [00:05<36:55,  2.25it/s]"
     ]
    },
    {
     "name": "stdout",
     "output_type": "stream",
     "text": [
      "{'categoria': 'Apartamento', 'tipo': 'venda', 'bairro': 'Jardim São Paulo', 'tamanho': '210', 'quartos': '4', 'vaga': '6', 'valor': '1.500.000', 'url': 'http://loft.com.br/imovel/apartamento-rua-casa-forte-jardim-sao-paulo-sao-paulo-4-quartos-210m2/1q32zl8'}\n"
     ]
    },
    {
     "name": "stderr",
     "output_type": "stream",
     "text": [
      "  0%|          | 17/5000 [00:05<34:21,  2.42it/s]"
     ]
    },
    {
     "name": "stdout",
     "output_type": "stream",
     "text": [
      "{'categoria': 'Apartamento', 'tipo': 'venda', 'bairro': 'Tremembé', 'tamanho': '80', 'quartos': '0', 'vaga': '2', 'valor': '439.900', 'url': 'http://loft.com.br/imovel/apartamento-avenida-senador-jose-ermirio-de-moraes-tremembe-sao-paulo-1-quarto-80m2/earhzs'}\n"
     ]
    },
    {
     "name": "stderr",
     "output_type": "stream",
     "text": [
      "  0%|          | 18/5000 [00:06<46:18,  1.79it/s]"
     ]
    },
    {
     "name": "stdout",
     "output_type": "stream",
     "text": [
      "{'categoria': 'Apartamento', 'tipo': 'venda', 'bairro': 'Tucuruvi', 'tamanho': '88', 'quartos': '3', 'vaga': '2', 'valor': '850.000', 'url': 'http://loft.com.br/imovel/apartamento-rua-do-tramway-tucuruvi-sao-paulo-3-quartos-88m2/1h6rbuj'}\n"
     ]
    },
    {
     "name": "stderr",
     "output_type": "stream",
     "text": [
      "  0%|          | 19/5000 [00:07<50:33,  1.64it/s]"
     ]
    },
    {
     "name": "stdout",
     "output_type": "stream",
     "text": [
      "{'categoria': 'Apartamento', 'tipo': 'venda', 'bairro': 'Morumbi', 'tamanho': '43', 'quartos': '2', 'vaga': '0', 'valor': '300.000', 'url': 'http://loft.com.br/imovel/apartamento-rua-dona-vitu-giorgi-morumbi-sao-paulo-2-quartos-43m2/15r2uou'}\n"
     ]
    },
    {
     "name": "stderr",
     "output_type": "stream",
     "text": [
      "  0%|          | 20/5000 [00:07<46:36,  1.78it/s]"
     ]
    },
    {
     "name": "stdout",
     "output_type": "stream",
     "text": [
      "{'categoria': 'Apartamento', 'tipo': 'venda', 'bairro': 'Jardim Paulistano', 'tamanho': '200', 'quartos': '3', 'vaga': '3', 'valor': '3.000.000', 'url': 'http://loft.com.br/imovel/apartamento-rua-ouro-branco-jardim-paulistano-sao-paulo-3-quartos-200m2/hroqts'}\n"
     ]
    },
    {
     "name": "stderr",
     "output_type": "stream",
     "text": [
      "  0%|          | 21/5000 [00:08<44:09,  1.88it/s]"
     ]
    },
    {
     "name": "stdout",
     "output_type": "stream",
     "text": [
      "{'categoria': 'Apartamento', 'tipo': 'venda', 'bairro': 'Cursino', 'tamanho': '580', 'quartos': '4', 'vaga': '5', 'valor': '2.300.000', 'url': 'http://loft.com.br/imovel/apartamento-rua-vitor-costa-cursino-sao-paulo-4-quartos-580m2/1qd4ltg'}\n"
     ]
    },
    {
     "name": "stderr",
     "output_type": "stream",
     "text": [
      "  0%|          | 23/5000 [00:09<33:15,  2.49it/s]"
     ]
    },
    {
     "name": "stdout",
     "output_type": "stream",
     "text": [
      "{'categoria': 'Apartamento', 'tipo': 'venda', 'bairro': 'Vila Romana', 'tamanho': '117', 'quartos': '3', 'vaga': '2', 'valor': '1.010.000', 'url': 'http://loft.com.br/imovel/apartamento-rua-cerro-cora-vila-romana-sao-paulo-3-quartos-117m2/1fw2tx6'}\n",
      "{'categoria': 'Casa', 'tipo': 'venda', 'bairro': 'Chácara Klabin', 'tamanho': '295', 'quartos': '4', 'vaga': '3', 'valor': '1.370.000', 'url': 'http://loft.com.br/imovel/casa-rua-pero-correia-chacara-klabin-sao-paulo-4-quartos-295m2/11lk53n'}\n"
     ]
    },
    {
     "name": "stderr",
     "output_type": "stream",
     "text": [
      "  0%|          | 24/5000 [00:09<35:51,  2.31it/s]"
     ]
    },
    {
     "name": "stdout",
     "output_type": "stream",
     "text": [
      "{'categoria': 'Apartamento', 'tipo': 'venda', 'bairro': 'Mandaqui', 'tamanho': '105', 'quartos': '3', 'vaga': '2', 'valor': '800.000', 'url': 'http://loft.com.br/imovel/apartamento-avenida-do-guaca-mandaqui-sao-paulo-3-quartos-105m2/12gsy3r'}\n"
     ]
    },
    {
     "name": "stderr",
     "output_type": "stream",
     "text": [
      "  0%|          | 25/5000 [00:10<40:18,  2.06it/s]"
     ]
    },
    {
     "name": "stdout",
     "output_type": "stream",
     "text": [
      "{'categoria': 'Apartamento', 'tipo': 'venda', 'bairro': 'Aclimação', 'tamanho': '70', 'quartos': '2', 'vaga': '1', 'valor': '432.000', 'url': 'http://loft.com.br/imovel/apartamento-rua-almeida-torres-aclimacao-sao-paulo-2-quartos-70m2/173l1xg'}\n"
     ]
    },
    {
     "name": "stderr",
     "output_type": "stream",
     "text": [
      "  1%|          | 26/5000 [00:10<38:43,  2.14it/s]"
     ]
    },
    {
     "name": "stdout",
     "output_type": "stream",
     "text": [
      "{'categoria': 'Apartamento', 'tipo': 'venda', 'bairro': 'Brooklin', 'tamanho': '81', 'quartos': '2', 'vaga': '1', 'valor': '1.100.000', 'url': 'http://loft.com.br/imovel/apartamento-rua-nova-york-brooklin-sao-paulo-2-quartos-81m2/vb95ss'}\n"
     ]
    },
    {
     "name": "stderr",
     "output_type": "stream",
     "text": [
      "  1%|          | 27/5000 [00:11<39:09,  2.12it/s]"
     ]
    },
    {
     "name": "stdout",
     "output_type": "stream",
     "text": [
      "{'categoria': 'Apartamento', 'tipo': 'venda', 'bairro': 'Cambuci', 'tamanho': '33', 'quartos': '2', 'vaga': '0', 'valor': '380.000', 'url': 'http://loft.com.br/imovel/apartamento-rua-alexandrino-da-silveira-bueno-cambuci-sao-paulo-2-quartos-33m2/ev57gs'}\n"
     ]
    },
    {
     "name": "stderr",
     "output_type": "stream",
     "text": [
      "  1%|          | 28/5000 [00:11<34:15,  2.42it/s]"
     ]
    },
    {
     "name": "stdout",
     "output_type": "stream",
     "text": [
      "{'categoria': 'Apartamento', 'tipo': 'venda', 'bairro': 'Moema Índios', 'tamanho': '116', 'quartos': '3', 'vaga': '2', 'valor': '1.880.000', 'url': 'http://loft.com.br/imovel/apartamento-alameda-dos-anapurus-moema-indios-sao-paulo-3-quartos-116m2/1feduwo'}\n"
     ]
    },
    {
     "name": "stderr",
     "output_type": "stream",
     "text": [
      "  1%|          | 28/5000 [00:11<34:43,  2.39it/s]\n"
     ]
    },
    {
     "ename": "AttributeError",
     "evalue": "'NoneType' object has no attribute 'text'",
     "output_type": "error",
     "traceback": [
      "\u001b[1;31m---------------------------------------------------------------------------\u001b[0m",
      "\u001b[1;31mAttributeError\u001b[0m                            Traceback (most recent call last)",
      "Cell \u001b[1;32mIn[51], line 20\u001b[0m\n\u001b[0;32m     16\u001b[0m padrao_valor \u001b[39m=\u001b[39m \u001b[39mr\u001b[39m\u001b[39m\"\u001b[39m\u001b[39mR\u001b[39m\u001b[39m\\\u001b[39m\u001b[39m$\u001b[39m\u001b[39m\\\u001b[39m\u001b[39ms([\u001b[39m\u001b[39m\\\u001b[39m\u001b[39md.,]+)\u001b[39m\u001b[39m\"\u001b[39m\n\u001b[0;32m     18\u001b[0m dados \u001b[39m=\u001b[39m {}\n\u001b[1;32m---> 20\u001b[0m dados[\u001b[39m'\u001b[39m\u001b[39mcategoria\u001b[39m\u001b[39m'\u001b[39m] \u001b[39m=\u001b[39m re\u001b[39m.\u001b[39msearch(padrao_categoria, desc\u001b[39m.\u001b[39;49mtext)\u001b[39m.\u001b[39mgroup(\u001b[39m1\u001b[39m)\n\u001b[0;32m     21\u001b[0m dados[\u001b[39m'\u001b[39m\u001b[39mtipo\u001b[39m\u001b[39m'\u001b[39m] \u001b[39m=\u001b[39m re\u001b[39m.\u001b[39msearch(padrao_tipo, desc\u001b[39m.\u001b[39mtext)\u001b[39m.\u001b[39mgroup(\u001b[39m1\u001b[39m)\n\u001b[0;32m     22\u001b[0m dados[\u001b[39m'\u001b[39m\u001b[39mbairro\u001b[39m\u001b[39m'\u001b[39m] \u001b[39m=\u001b[39m re\u001b[39m.\u001b[39msearch(padrao_bairro, desc\u001b[39m.\u001b[39mtext)\u001b[39m.\u001b[39mgroup(\u001b[39m1\u001b[39m)\n",
      "\u001b[1;31mAttributeError\u001b[0m: 'NoneType' object has no attribute 'text'"
     ]
    }
   ],
   "source": [
    "import re\n",
    "\n",
    "for url in tqdm(loft_list):\n",
    "    r = requests.get(url, headers=headers)\n",
    "    content = r.content\n",
    "    soup = BeautifulSoup(r.content, 'html.parser') \n",
    "    desc = soup.find('h1', class_='MuiTypography-root jss197 jss174 jss183 MuiTypography-body1')\n",
    "    title = soup.find('title')\n",
    "\n",
    "    padrao_categoria = r\"^(\\w+)\"\n",
    "    padrao_tipo = r\"à\\s(\\w+)\"\n",
    "    padrao_bairro = r\"em\\s(.+?)\\scom\"\n",
    "    padrao_tamanho = r\"(\\d+)\\s*m²\"\n",
    "    padrao_quartos = r\"(\\d+)\\squartos\"\n",
    "    padrao_vaga = r\"(\\d+)\\svaga\"\n",
    "    padrao_valor = r\"R\\$\\s([\\d.,]+)\"\n",
    "\n",
    "    dados = {}\n",
    "    try:\n",
    "        dados['categoria'] = re.search(padrao_categoria, desc.text).group(1)\n",
    "    except:\n",
    "        dados['categoria'] = 'Unknow'\n",
    "    try:\n",
    "        dados['tipo'] = re.search(padrao_tipo, desc.text).group(1)\n",
    "    except:\n",
    "        dados['tipo'] = 'Unknow'\n",
    "    try:\n",
    "        dados['bairro'] = re.search(padrao_bairro, desc.text).group(1)\n",
    "    except:\n",
    "        dados['bairro'] = 'Unknow'\n",
    "    try:        \n",
    "        dados['tamanho'] = re.search(padrao_tamanho, desc.text).group(1)\n",
    "    except:\n",
    "        dados['tamanho'] = '0'\n",
    "    try:\n",
    "        dados['quartos'] = re.search(padrao_quartos, desc.text).group(1)\n",
    "    except:\n",
    "        dados['quartos'] = '0'\n",
    "    try:\n",
    "        dados['vaga'] = re.search(padrao_vaga, desc.text).group(1)\n",
    "    except:\n",
    "        dados['vaga'] = '0'\n",
    "    try:\n",
    "        dados['valor'] = re.search(padrao_valor, title.text).group(1)\n",
    "    except:\n",
    "        dados['valor'] = '0'\n",
    "    \n",
    "    dados['url'] = url\n",
    "\n",
    "    print(dados)\n"
   ]
  },
  {
   "cell_type": "code",
   "execution_count": null,
   "metadata": {},
   "outputs": [],
   "source": [
    "import re\n",
    "import pandas as pd\n",
    "\n",
    "dados_imoveis = []\n",
    "\n",
    "for url in tqdm(loft_list):\n",
    "    r = requests.get(url, headers=headers)\n",
    "    content = r.content\n",
    "    soup = BeautifulSoup(r.content, 'html.parser')\n",
    "    desc = soup.find('h1', class_='MuiTypography-root jss197 jss174 jss183 MuiTypography-body1')\n",
    "    title = soup.find('title')\n",
    "\n",
    "    padrao_categoria = r\"^(\\w+)\"\n",
    "    padrao_tipo = r\"à\\s(\\w+)\"\n",
    "    padrao_bairro = r\"em\\s(.+?)\\scom\"\n",
    "    padrao_tamanho = r\"(\\d+)\\s*m²\"\n",
    "    padrao_quartos = r\"(\\d+)\\squartos\"\n",
    "    padrao_vaga = r\"(\\d+)\\svaga\"\n",
    "    padrao_valor = r\"R\\$\\s([\\d.,]+)\"\n",
    "\n",
    "    dados = {}\n",
    "\n",
    "    try:\n",
    "        dados['categoria'] = re.search(padrao_categoria, desc.text).group(1)\n",
    "    except:\n",
    "        dados['categoria'] = 'Unknow'\n",
    "    try:\n",
    "        dados['tipo'] = re.search(padrao_tipo, desc.text).group(1)\n",
    "    except:\n",
    "        dados['tipo'] = 'Unknow'\n",
    "    try:\n",
    "        dados['bairro'] = re.search(padrao_bairro, desc.text).group(1)\n",
    "    except:\n",
    "        dados['bairro'] = 'Unknow'\n",
    "    try:\n",
    "        dados['tamanho'] = re.search(padrao_tamanho, desc.text).group(1)\n",
    "    except:\n",
    "        dados['tamanho'] = '0'\n",
    "    try:\n",
    "        dados['quartos'] = re.search(padrao_quartos, desc.text).group(1)\n",
    "    except:\n",
    "        dados['quartos'] = '0'\n",
    "    try:\n",
    "        dados['vaga'] = re.search(padrao_vaga, desc.text).group(1)\n",
    "    except:\n",
    "        dados['vaga'] = '0'\n",
    "    try:\n",
    "        dados['valor'] = re.search(padrao_valor, title.text).group(1)\n",
    "    except:\n",
    "        dados['valor'] = '0'\n",
    "\n",
    "    dados['URL'] = url\n",
    "\n",
    "    dados_imoveis.append(dados)\n",
    "\n",
    "# Cria o DataFrame\n",
    "df = pd.DataFrame(dados_imoveis)\n",
    "\n",
    "# Define a ordem das colunas\n",
    "colunas = ['URL', 'Valor', 'CEP', 'Município', 'Bairro', 'Logradouro', 'Categoria', 'Vagas na garagem',\n",
    "           'Quartos', 'Acomoda', 'Características', 'Tipo', 'Área construída', 'Banheiros',\n",
    "           'Detalhes do imóvel', 'Condomínio', 'IPTU', 'Área útil', 'Detalhes do condomínio', 'Tamanho']\n",
    "\n",
    "# Reorganiza as colunas\n",
    "df = df[colunas]\n",
    "\n",
    "# Exporta o DataFrame para um arquivo Excel\n",
    "df.to_excel('dados_imoveis.xlsx', index=False)\n"
   ]
  },
  {
   "cell_type": "code",
   "execution_count": 48,
   "metadata": {},
   "outputs": [],
   "source": [
    "test = ['http://loft.com.br/imovel/casa-rua-sao-felix-de-cantalicio-aricanduva-sao-paulo-3-quartos-382m2/kj3fsq',\n",
    " 'http://loft.com.br/imovel/casa-rua-tavares-bastos-perdizes-sao-paulo-3-quartos-90m2/15y1fe8',\n",
    " 'http://loft.com.br/imovel/apartamento-rua-silva-teles-pari-sao-paulo-3-quartos-69m2/1dasle7',\n",
    " 'http://loft.com.br/imovel/apartamento-rua-do-estilo-barroco-santo-amaro-sao-paulo-4-quartos-284m2/oofj5l',\n",
    " 'http://loft.com.br/imovel/apartamento-rua-davi-banderali-artur-alvim-sao-paulo-2-quartos-48m2/1hktuao']"
   ]
  },
  {
   "cell_type": "code",
   "execution_count": 54,
   "metadata": {},
   "outputs": [
    {
     "data": {
      "text/plain": [
       "185"
      ]
     },
     "execution_count": 54,
     "metadata": {},
     "output_type": "execute_result"
    }
   ],
   "source": [
    "len(dados_imoveis)"
   ]
  }
 ],
 "metadata": {
  "kernelspec": {
   "display_name": "Python 3",
   "language": "python",
   "name": "python3"
  },
  "language_info": {
   "codemirror_mode": {
    "name": "ipython",
    "version": 3
   },
   "file_extension": ".py",
   "mimetype": "text/x-python",
   "name": "python",
   "nbconvert_exporter": "python",
   "pygments_lexer": "ipython3",
   "version": "3.9.11"
  },
  "orig_nbformat": 4,
  "vscode": {
   "interpreter": {
    "hash": "39c5207e0ce1341ad898502cc592606dcf3036f0772b83709aba2273e6498e4a"
   }
  }
 },
 "nbformat": 4,
 "nbformat_minor": 2
}
